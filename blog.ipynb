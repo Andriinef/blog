{
 "cells": [
  {
   "cell_type": "markdown",
   "id": "b0e6e591",
   "metadata": {},
   "source": [
    "# DJANGO"
   ]
  },
  {
   "cell_type": "markdown",
   "id": "22076e03",
   "metadata": {},
   "source": [
    "Работа с виртуальным окружением"
   ]
  },
  {
   "cell_type": "markdown",
   "id": "7e7bbea2",
   "metadata": {},
   "source": [
    "Открываем тезминал Ctrl+Alt+t."
   ]
  },
  {
   "cell_type": "markdown",
   "id": "edf3ee9b",
   "metadata": {},
   "source": [
    "Создадим папку нашего проекта, например blog"
   ]
  },
  {
   "cell_type": "raw",
   "id": "c9fafdd4",
   "metadata": {},
   "source": [
    "mkdir blog"
   ]
  },
  {
   "cell_type": "markdown",
   "id": "0b622c65",
   "metadata": {},
   "source": [
    "проверте создание папки"
   ]
  },
  {
   "cell_type": "raw",
   "id": "66183644",
   "metadata": {},
   "source": [
    "ls"
   ]
  },
  {
   "cell_type": "markdown",
   "id": "adeb0009",
   "metadata": {},
   "source": [
    "перейдем в нее"
   ]
  },
  {
   "cell_type": "raw",
   "id": "95df9671",
   "metadata": {},
   "source": [
    "cd blog"
   ]
  },
  {
   "cell_type": "markdown",
   "id": "bc4e4c44",
   "metadata": {},
   "source": [
    "Внутри папки теперь создадим виртуальное окружение. Синтаксис такой версия_пайтон -m venv название окружения"
   ]
  },
  {
   "cell_type": "raw",
   "id": "552601ee",
   "metadata": {},
   "source": [
    "python3.10 -m venv venv"
   ]
  },
  {
   "cell_type": "markdown",
   "id": "ba581d32",
   "metadata": {},
   "source": [
    "Внутри нашей директории blog мы создали виртуальное окружение venv. Теперь нам надо его активировать, для этого введите"
   ]
  },
  {
   "cell_type": "raw",
   "id": "80c462bf",
   "metadata": {},
   "source": [
    "source venv/bin/activate"
   ]
  },
  {
   "cell_type": "markdown",
   "id": "e663a25b",
   "metadata": {},
   "source": [
    "Слева, в командной строке в приглашении у вас должно появиться надпись (venv)."
   ]
  },
  {
   "cell_type": "markdown",
   "id": "0a89958b",
   "metadata": {},
   "source": [
    "Обновляем пакет pip3"
   ]
  },
  {
   "cell_type": "raw",
   "id": "33ddf9ae",
   "metadata": {},
   "source": [
    "sudo pip3 install --upgrade pip"
   ]
  },
  {
   "cell_type": "markdown",
   "id": "d41119c9",
   "metadata": {},
   "source": [
    "Установите фреймворк django"
   ]
  },
  {
   "cell_type": "raw",
   "id": "4062e1e0",
   "metadata": {},
   "source": [
    "pip install django"
   ]
  },
  {
   "cell_type": "markdown",
   "id": "ba07afc4",
   "metadata": {},
   "source": [
    "Установите дополнительные пакеты"
   ]
  },
  {
   "cell_type": "markdown",
   "id": "58e703ad",
   "metadata": {},
   "source": [
    "pip install pillow"
   ]
  },
  {
   "cell_type": "markdown",
   "id": "37a51d0c",
   "metadata": {},
   "source": [
    "## django crispy forms"
   ]
  },
  {
   "cell_type": "markdown",
   "id": "830cb37d",
   "metadata": {},
   "source": [
    "https://django-crispy-forms.readthedocs.io/en/latest/install.html"
   ]
  },
  {
   "cell_type": "markdown",
   "id": "f4d66bf1",
   "metadata": {},
   "source": [
    "https://www.youtube.com/watch?v=7igdoz8cphM&list=PLuZJ9n46uMzXVj9JEjULImuBKRVKKS9To&index=8"
   ]
  },
  {
   "cell_type": "raw",
   "id": "777b3d13",
   "metadata": {},
   "source": [
    "pip install django-crispy-forms"
   ]
  },
  {
   "cell_type": "markdown",
   "id": "15935a86",
   "metadata": {},
   "source": [
    "## django cleanup"
   ]
  },
  {
   "cell_type": "markdown",
   "id": "f801a372",
   "metadata": {},
   "source": [
    "https://github.com/un1t/django-cleanup"
   ]
  },
  {
   "cell_type": "raw",
   "id": "38f283e2",
   "metadata": {},
   "source": [
    "pip install django-cleanup"
   ]
  },
  {
   "cell_type": "markdown",
   "id": "90966975",
   "metadata": {},
   "source": [
    "## django-ckeditor"
   ]
  },
  {
   "cell_type": "markdown",
   "id": "f3aee695",
   "metadata": {},
   "source": [
    "https://pypi.org/project/django-ckeditor/"
   ]
  },
  {
   "cell_type": "markdown",
   "id": "81949007",
   "metadata": {},
   "source": [
    "https://www.youtube.com/watch?v=EGa8fLQWIcI&list=PLuZJ9n46uMzXVj9JEjULImuBKRVKKS9To&index=10"
   ]
  },
  {
   "cell_type": "raw",
   "id": "e48c19cf",
   "metadata": {},
   "source": [
    "pip install django-ckeditor"
   ]
  },
  {
   "cell_type": "markdown",
   "id": "4424530a",
   "metadata": {},
   "source": [
    "## channels"
   ]
  },
  {
   "cell_type": "markdown",
   "id": "56b6249f",
   "metadata": {},
   "source": [
    "https://channels.readthedocs.io/en/stable/installation.html"
   ]
  },
  {
   "cell_type": "markdown",
   "id": "a20859b2",
   "metadata": {},
   "source": [
    "https://www.youtube.com/watch?v=TJy4SCFNMmA&list=PLuZJ9n46uMzXVj9JEjULImuBKRVKKS9To&index=14"
   ]
  },
  {
   "cell_type": "raw",
   "id": "8748f18f",
   "metadata": {},
   "source": [
    "python -m pip install -U channels"
   ]
  },
  {
   "cell_type": "markdown",
   "id": "b6904517",
   "metadata": {},
   "source": [
    "## django allauth"
   ]
  },
  {
   "cell_type": "markdown",
   "id": "ccd31c2a",
   "metadata": {},
   "source": [
    "https://django-allauth.readthedocs.io/en/latest/installation.html"
   ]
  },
  {
   "cell_type": "markdown",
   "id": "8e93cfed",
   "metadata": {},
   "source": [
    "https://www.youtube.com/watch?v=d1w1qL4aatY&list=PLuZJ9n46uMzXVj9JEjULImuBKRVKKS9To&index=11"
   ]
  },
  {
   "cell_type": "raw",
   "id": "fa052dcd",
   "metadata": {},
   "source": [
    "pip install django-allauth"
   ]
  },
  {
   "cell_type": "markdown",
   "id": "a0f274cf",
   "metadata": {},
   "source": [
    "## python dotenv"
   ]
  },
  {
   "cell_type": "markdown",
   "id": "bbd869bc",
   "metadata": {},
   "source": [
    "https://pypi.org/project/python-dotenv/"
   ]
  },
  {
   "cell_type": "markdown",
   "id": "e70343d2",
   "metadata": {},
   "source": [
    "https://www.youtube.com/watch?v=M3dc_jSOwN0&list=PLuZJ9n46uMzXVj9JEjULImuBKRVKKS9To&index=9"
   ]
  },
  {
   "cell_type": "raw",
   "id": "1a6cc207",
   "metadata": {},
   "source": [
    "pip install python-dotenv"
   ]
  },
  {
   "cell_type": "markdown",
   "id": "66a3cf37",
   "metadata": {},
   "source": [
    "## django-braces"
   ]
  },
  {
   "cell_type": "markdown",
   "id": "6643a716",
   "metadata": {},
   "source": [
    "https://django-braces.readthedocs.io/en/latest/"
   ]
  },
  {
   "cell_type": "raw",
   "id": "a84fcd1c",
   "metadata": {},
   "source": [
    "pip install django-braces"
   ]
  },
  {
   "cell_type": "markdown",
   "id": "8da60962",
   "metadata": {},
   "source": [
    "## django-debug-toolbar"
   ]
  },
  {
   "cell_type": "markdown",
   "id": "1a5d22f6",
   "metadata": {},
   "source": [
    "https://django-debug-toolbar.readthedocs.io/en/latest/installation.html"
   ]
  },
  {
   "cell_type": "markdown",
   "id": "6b954a73",
   "metadata": {},
   "source": [
    "https://www.youtube.com/watch?v=ZAhHfKK2h0A&list=PLuZJ9n46uMzXVj9JEjULImuBKRVKKS9To&index=13"
   ]
  },
  {
   "cell_type": "raw",
   "id": "4a24f56b",
   "metadata": {},
   "source": [
    "python -m pip install django-debug-toolbar"
   ]
  },
  {
   "cell_type": "markdown",
   "id": "a64dfec4",
   "metadata": {},
   "source": [
    "## django-extensions"
   ]
  },
  {
   "cell_type": "markdown",
   "id": "de68e602",
   "metadata": {},
   "source": [
    "https://django-extensions.readthedocs.io/en/latest/"
   ]
  },
  {
   "cell_type": "raw",
   "id": "673da5d3",
   "metadata": {},
   "source": [
    "pip install django-extensions"
   ]
  },
  {
   "cell_type": "markdown",
   "id": "7ade5aa2",
   "metadata": {},
   "source": [
    "## django-taggit"
   ]
  },
  {
   "cell_type": "markdown",
   "id": "e6800d5a",
   "metadata": {},
   "source": [
    "https://django-taggit.readthedocs.io/en/latest/"
   ]
  },
  {
   "cell_type": "raw",
   "id": "19437a7a",
   "metadata": {},
   "source": [
    "pip install django-taggit"
   ]
  },
  {
   "cell_type": "markdown",
   "id": "e2fb589b",
   "metadata": {},
   "source": [
    "## freeze > requirements.txt"
   ]
  },
  {
   "cell_type": "markdown",
   "id": "e86f36f8",
   "metadata": {},
   "source": [
    "После установки, вы можете создать файл requirements.txt в котором будут храниться все зависимости для данного вебприложения."
   ]
  },
  {
   "cell_type": "raw",
   "id": "f5b68457",
   "metadata": {},
   "source": [
    "pip freeze > requirements.txt"
   ]
  },
  {
   "cell_type": "markdown",
   "id": "058ef0b1",
   "metadata": {},
   "source": [
    "Не забывайте обновлять ваш файл requirements.txt каждый раз когда вы добавляете или обновите в проект новую библиотеку."
   ]
  },
  {
   "cell_type": "markdown",
   "id": "f531c851",
   "metadata": {},
   "source": [
    "Закрываем терминал"
   ]
  },
  {
   "cell_type": "markdown",
   "id": "77f3afd5",
   "metadata": {},
   "source": [
    "Открываем VSCode и открываем папку с проэктом blog"
   ]
  },
  {
   "cell_type": "markdown",
   "id": "ea94e479",
   "metadata": {},
   "source": [
    "# Создаем django проект и приложения"
   ]
  },
  {
   "cell_type": "markdown",
   "id": "52bd10d8",
   "metadata": {},
   "source": [
    "В VSCode оmainsiteткрываем терминал"
   ]
  },
  {
   "cell_type": "markdown",
   "id": "21ba5261",
   "metadata": {},
   "source": [
    "Cоздаём проект с названием mainsite"
   ]
  },
  {
   "cell_type": "raw",
   "id": "7014995e",
   "metadata": {},
   "source": [
    "django-admin startproject mainsite"
   ]
  },
  {
   "cell_type": "markdown",
   "id": "92d0c91d",
   "metadata": {},
   "source": [
    "Cоздаём первое приложение с названием blog"
   ]
  },
  {
   "cell_type": "raw",
   "id": "a22236f4",
   "metadata": {},
   "source": [
    "python manage.py startapp blog"
   ]
  },
  {
   "cell_type": "markdown",
   "id": "afc3535e",
   "metadata": {},
   "source": [
    "Oткрываем файл apps.py, внем должно быть примерно следующее"
   ]
  },
  {
   "cell_type": "code",
   "execution_count": null,
   "id": "463035cc",
   "metadata": {},
   "outputs": [],
   "source": [
    "from django.apps import AppConfig\n",
    "\n",
    "\n",
    "class BlogConfig(AppConfig):\n",
    "    default_auto_field = 'django.db.models.BigAutoField'\n",
    "    name = 'blog'\n",
    "    verbose_name = (\"Пост\")"
   ]
  },
  {
   "cell_type": "markdown",
   "id": "69e0f393",
   "metadata": {},
   "source": [
    "Открываем файл settings.py и добавляем"
   ]
  },
  {
   "cell_type": "code",
   "execution_count": null,
   "id": "a7d548de",
   "metadata": {},
   "outputs": [],
   "source": [
    "ALLOWED_HOSTS = ['*']\n",
    "\n",
    "INSTALLED_APPS = [\n",
    "    --------------\n",
    "    --------------\n",
    "    'blog.apps.BlogConfig',\n",
    "]"
   ]
  },
  {
   "cell_type": "markdown",
   "id": "92613e13",
   "metadata": {},
   "source": [
    "# Добавление приложений и пакетов django и т.п."
   ]
  },
  {
   "cell_type": "markdown",
   "id": "df98324e",
   "metadata": {},
   "source": [
    "Добавляем все ранее установленные приложения и пакеты согласно их документациии"
   ]
  },
  {
   "cell_type": "code",
   "execution_count": null,
   "id": "7eacf54c",
   "metadata": {},
   "outputs": [],
   "source": [
    "INSTALLED_APPS = [\n",
    "    'grappelli',\n",
    "    'django.contrib.admin',\n",
    "    'django.contrib.auth',\n",
    "    'django.contrib.contenttypes',\n",
    "    'django.contrib.sessions',\n",
    "    'django.contrib.messages',\n",
    "    'django.contrib.staticfiles',\n",
    "\n",
    "    # https://docs.djangoproject.com/en/4.1/ref/contrib/humanize/\n",
    "    'django.contrib.humanize', # Humanize\n",
    "\n",
    "    'django.contrib.sites', # Allauth\n",
    "    'allauth',\n",
    "    'allauth.account',\n",
    "    'allauth.socialaccount.providers.google',\n",
    "    'allauth.socialaccount.providers.github',\n",
    "\n",
    "    'crispy_forms', # FORMS\n",
    "    'ckeditor', # CKEditor\n",
    "    # 'channels', # Channels\n",
    "    'django_cleanup.apps.CleanupConfig', # Cleanup\n",
    "    \"debug_toolbar\", # Debug Toolbar\n",
    "    'django_extensions', # Django Extensions\n",
    "\n",
    "\n",
    "    'blog.apps.BlogConfig', # MyApps\n",
    "]"
   ]
  },
  {
   "cell_type": "markdown",
   "id": "e3b710b5",
   "metadata": {},
   "source": [
    "Пример установки django редактора"
   ]
  },
  {
   "cell_type": "markdown",
   "id": "4c88fd00",
   "metadata": {},
   "source": [
    "## ckeditor редактор"
   ]
  },
  {
   "cell_type": "code",
   "execution_count": null,
   "id": "ec95c72e",
   "metadata": {},
   "outputs": [],
   "source": [
    "# https://pypi.org/project/django-ckeditor/\n",
    "CKEDITOR_CONFIGS = {\n",
    "    'default': {\n",
    "        'skin': 'moono',\n",
    "        # 'skin': 'office2013',\n",
    "        'toolbar_Basic': [\n",
    "            ['Source', '-', 'Bold', 'Italic']\n",
    "        ],\n",
    "        'toolbar_YourCustomToolbarConfig': [\n",
    "            {'name': 'document', 'items': ['Source', '-', 'Save', 'NewPage', 'Preview', 'Print', '-', 'Templates']},\n",
    "            {'name': 'clipboard', 'items': ['Cut', 'Copy', 'Paste', 'PasteText', 'PasteFromWord', '-', 'Undo', 'Redo']},\n",
    "            {'name': 'editing', 'items': ['Find', 'Replace', '-', 'SelectAll']},\n",
    "            {'name': 'forms',\n",
    "             'items': ['Form', 'Checkbox', 'Radio', 'TextField', 'Textarea', 'Select', 'Button', 'ImageButton',\n",
    "                       'HiddenField']},\n",
    "            '/',\n",
    "            {'name': 'basicstyles',\n",
    "             'items': ['Bold', 'Italic', 'Underline', 'Strike', 'Subscript', 'Superscript', '-', 'RemoveFormat']},\n",
    "            {'name': 'paragraph',\n",
    "             'items': ['NumberedList', 'BulletedList', '-', 'Outdent', 'Indent', '-', 'Blockquote', 'CreateDiv', '-',\n",
    "                       'JustifyLeft', 'JustifyCenter', 'JustifyRight', 'JustifyBlock', '-', 'BidiLtr', 'BidiRtl',\n",
    "                       'Language']},\n",
    "            {'name': 'links', 'items': ['Link', 'Unlink', 'Anchor']},\n",
    "            {'name': 'insert',\n",
    "             'items': ['Image', 'Flash', 'Table', 'HorizontalRule', 'Smiley', 'SpecialChar', 'PageBreak', 'Iframe']},\n",
    "            '/',\n",
    "            {'name': 'styles', 'items': ['Styles', 'Format', 'Font', 'FontSize']},\n",
    "            {'name': 'colors', 'items': ['TextColor', 'BGColor']},\n",
    "            {'name': 'tools', 'items': ['Maximize', 'ShowBlocks']},\n",
    "            {'name': 'about', 'items': ['About']},\n",
    "            '/',  # put this to force next toolbar on new line\n",
    "            {'name': 'yourcustomtools', 'items': [\n",
    "                # put the name of your editor.ui.addButton here\n",
    "                'Preview',\n",
    "                'Maximize',\n",
    "\n",
    "            ]},\n",
    "        ],\n",
    "        'toolbar': 'YourCustomToolbarConfig',  # put selected toolbar config here\n",
    "        # 'toolbarGroups': [{ 'name': 'document', 'groups': [ 'mode', 'document', 'doctools' ] }],\n",
    "        # 'height': 291,\n",
    "        # 'width': '100%',\n",
    "        # 'filebrowserWindowHeight': 725,\n",
    "        # 'filebrowserWindowWidth': 940,\n",
    "        # 'toolbarCanCollapse': True,\n",
    "        # 'mathJaxLib': '//cdn.mathjax.org/mathjax/2.2-latest/MathJax.js?config=TeX-AMS_HTML',\n",
    "        'tabSpaces': 4,\n",
    "        'extraPlugins': ','.join([\n",
    "            'uploadimage', # the upload image feature\n",
    "            # your extra plugins here\n",
    "            'div',\n",
    "            'autolink',\n",
    "            'autoembed',\n",
    "            'embedsemantic',\n",
    "            'autogrow',\n",
    "            # 'devtools',\n",
    "            'widget',\n",
    "            'lineutils',\n",
    "            'clipboard',\n",
    "            'dialog',\n",
    "            'dialogui',\n",
    "            'elementspath'\n",
    "        ]),\n",
    "    }\n",
    "}"
   ]
  },
  {
   "cell_type": "markdown",
   "id": "bd4ac6ec",
   "metadata": {},
   "source": [
    "В model.py используем в место поля model.TextField, поле RichTextField"
   ]
  },
  {
   "cell_type": "raw",
   "id": "3fd1bd45",
   "metadata": {},
   "source": [
    "    # content = models.TextField(\"Текст статті\", max_length=5000, blank=True, null=True)\n",
    "    content = RichTextField(\"Текст статті\", blank=True, null=True)"
   ]
  },
  {
   "cell_type": "markdown",
   "id": "ad86f827",
   "metadata": {},
   "source": [
    "## django.contrib.humanize"
   ]
  },
  {
   "cell_type": "markdown",
   "id": "91e80362",
   "metadata": {},
   "source": [
    "https://www.youtube.com/watch?v=mBE8QOh2w4M&list=PLuZJ9n46uMzXVj9JEjULImuBKRVKKS9To&index=12"
   ]
  },
  {
   "cell_type": "code",
   "execution_count": null,
   "id": "5e8ee6d4",
   "metadata": {},
   "outputs": [],
   "source": [
    "INSTALLED_APPS = [\n",
    "    ----------------------------------------------------\n",
    "    # https://docs.djangoproject.com/en/4.1/ref/contrib/humanize/\n",
    "    'django.contrib.humanize', # Humanize\n",
    "    ----------------------------------------------------\n",
    "]"
   ]
  },
  {
   "cell_type": "markdown",
   "id": "fe0cb44d",
   "metadata": {},
   "source": [
    "ВНИМАНИЕ: после каждого приложения или пакета делайте для выявления ошибок"
   ]
  },
  {
   "cell_type": "raw",
   "id": "edaeeede",
   "metadata": {},
   "source": [
    "python manage.py makemigrations"
   ]
  },
  {
   "cell_type": "raw",
   "id": "98b7d2d0",
   "metadata": {},
   "source": [
    "python manage.py migrate"
   ]
  },
  {
   "cell_type": "raw",
   "id": "9e4c5c8a",
   "metadata": {},
   "source": [
    "python manage.py collectstatic"
   ]
  },
  {
   "cell_type": "markdown",
   "id": "9037ba81",
   "metadata": {},
   "source": [
    "# Создание папки templates (шаблоны)"
   ]
  },
  {
   "cell_type": "markdown",
   "id": "8de1ce0f",
   "metadata": {},
   "source": [
    "Паралельно папки mainsite и blog создать папку templates, а внутри нее создать папку с таким же именем, как имя нашего приложения blog."
   ]
  },
  {
   "cell_type": "markdown",
   "id": "460051e3",
   "metadata": {},
   "source": [
    "Внимание: при создании больших проэктов с несколькими приложениямя создавайте именные папки templates, для каждого приложения в самих приложениях(blog/templates/blog)"
   ]
  },
  {
   "cell_type": "markdown",
   "id": "833f6818",
   "metadata": {},
   "source": [
    "Открываем файл settings.py и импортируем пакет os"
   ]
  },
  {
   "cell_type": "code",
   "execution_count": null,
   "id": "a9b476d2",
   "metadata": {},
   "outputs": [],
   "source": [
    "import os\n",
    "\n",
    "TEMPLATES = [\n",
    "    {\n",
    "        '--------------------------------------------',\n",
    "        'DIRS': [os.path.join(BASE_DIR, 'templates')],\n",
    "        '--------------',\n",
    "    }\n",
    "]"
   ]
  },
  {
   "cell_type": "markdown",
   "id": "95f865c2",
   "metadata": {},
   "source": [
    "### Создайте логику всего проэкта"
   ]
  },
  {
   "cell_type": "markdown",
   "id": "4e693cf6",
   "metadata": {},
   "source": [
    "В папку templates/mainsite(основную) рекумендуеться распологать файлы base.html, navbar.html, footer.html"
   ]
  },
  {
   "cell_type": "markdown",
   "id": "925501c7",
   "metadata": {},
   "source": [
    "В папку templates/blog(приложения) рекумендуеться распологать файлы base.html, home.html, blog.html и т.п."
   ]
  },
  {
   "cell_type": "markdown",
   "id": "bf5f3d96",
   "metadata": {},
   "source": [
    "# Подключение базы данных"
   ]
  },
  {
   "cell_type": "markdown",
   "id": "017ad006",
   "metadata": {},
   "source": [
    "Установите пакет psycopg2"
   ]
  },
  {
   "cell_type": "raw",
   "id": "7ed616eb",
   "metadata": {},
   "source": [
    "pip install psycopg2-binary"
   ]
  },
  {
   "cell_type": "markdown",
   "id": "0521e589",
   "metadata": {},
   "source": [
    "В DATABASES = добавте"
   ]
  },
  {
   "cell_type": "code",
   "execution_count": null,
   "id": "5d1acf64",
   "metadata": {},
   "outputs": [],
   "source": [
    "DATABASES = {\n",
    "    'default': {\n",
    "        'ENGINE': 'django.db.backends.postgresql',\n",
    "        'NAME': 'myproject',\n",
    "        'USER': 'myprojectuser',\n",
    "        'PASSWORD': 'password',\n",
    "        'HOST': 'localhost',\n",
    "        'PORT': '',\n",
    "    }\n",
    "}"
   ]
  },
  {
   "cell_type": "markdown",
   "id": "7fcb470f",
   "metadata": {},
   "source": [
    "# Настройка STATIC"
   ]
  },
  {
   "cell_type": "markdown",
   "id": "c2d35780",
   "metadata": {},
   "source": [
    "Указываем абсолютный путь к каталогу, в котором collectstatic будут собираться статические файлы для развертывания."
   ]
  },
  {
   "cell_type": "code",
   "execution_count": null,
   "id": "6e4c7065",
   "metadata": {},
   "outputs": [],
   "source": [
    "# https://docs.djangoproject.com/en/4.1/ref/settings/#static-root\n",
    "STATIC_ROOT = os.path.join(BASE_DIR, 'static')\n",
    "\n",
    "\n",
    "#STATICFILES_DIRS = os.path.join(BASE_DIR, \"templates\")\n",
    "\n",
    "\n",
    "STATICFILES_FINDERS = [\n",
    "    \"django.contrib.staticfiles.finders.FileSystemFinder\",\n",
    "    \"django.contrib.staticfiles.finders.AppDirectoriesFinder\",\n",
    "   ]"
   ]
  },
  {
   "cell_type": "markdown",
   "id": "532d27a6",
   "metadata": {},
   "source": [
    "Внимание: при создании больших проэктов с несколькими приложениямя создавайте именные папки static, для каждого приложения в самих приложениях(blog/static)"
   ]
  },
  {
   "cell_type": "raw",
   "id": "6709932d",
   "metadata": {},
   "source": [
    "python manage.py collectstatic"
   ]
  },
  {
   "cell_type": "markdown",
   "id": "ec763360",
   "metadata": {},
   "source": [
    "# Настройка MEDIA"
   ]
  },
  {
   "cell_type": "markdown",
   "id": "3f13ff39",
   "metadata": {},
   "source": [
    "Указываем абсолютный путь в файловой системе к каталогу, в котором будут храниться загруженные пользователем файлы ."
   ]
  },
  {
   "cell_type": "code",
   "execution_count": null,
   "id": "df356697",
   "metadata": {},
   "outputs": [],
   "source": [
    "# https://docs.djangoproject.com/en/4.1/ref/settings/#std-setting-MEDIA_ROOT\n",
    "\n",
    "MEDIA_ROOT = os.path.join(BASE_DIR, 'media')\n",
    "\n",
    "MEDIA_URL = '/media/'"
   ]
  },
  {
   "cell_type": "markdown",
   "id": "ef2bb918",
   "metadata": {},
   "source": [
    "Открываем файл mainsite/urls.py и довавляем"
   ]
  },
  {
   "cell_type": "code",
   "execution_count": null,
   "id": "76d2fcac",
   "metadata": {},
   "outputs": [],
   "source": [
    "from django.conf import settings\n",
    "from django.conf.urls.static import static\n",
    "\n",
    "urlpatterns = [\n",
    "    path('admin/', admin.site.urls), # admin site\n",
    "]\n",
    "\n",
    "if settings.DEBUG:\n",
    "    urlpatterns += static(settings.MEDIA_URL, document_root=settings.MEDIA_ROOT)\n"
   ]
  },
  {
   "cell_type": "markdown",
   "id": "6597f78e",
   "metadata": {},
   "source": [
    "Паралельно папки mainsite и blog создать папку media"
   ]
  },
  {
   "cell_type": "markdown",
   "id": "1ca8c7ff",
   "metadata": {},
   "source": [
    "## Некоторые дополнения настройки settings.py"
   ]
  },
  {
   "cell_type": "code",
   "execution_count": null,
   "id": "b91363d6",
   "metadata": {},
   "outputs": [],
   "source": [
    "# Internationalization\n",
    "# https://docs.djangoproject.com/en/4.1/topics/i18n/\n",
    "\n",
    "LANGUAGE_CODE = 'uk'\n",
    "\n",
    "TIME_ZONE = 'Europe/Kiev'\n",
    "\n",
    "USE_I18N = True\n",
    "\n",
    "USE_TZ = True"
   ]
  },
  {
   "cell_type": "code",
   "execution_count": null,
   "id": "0f86e545",
   "metadata": {},
   "outputs": [],
   "source": [
    "# email\n",
    "EMAIL_BACKEND = 'django.core.mail.backends.smtp.EmailBackend'\n",
    "EMAIL_HOST = 'smtp.gmail.com'\n",
    "EMAIL_PORT = os.getenv(\"EMAIL_PORT\")\n",
    "EMAIL_USER_TLS = True\n",
    "EMAIL_HOST_USER = os.getenv(\"EMAIL_USER\")\n",
    "EMAIL_HOST_PASSWORD = os.getenv(\"EMAIL_PASS\")\n",
    "\n",
    "GOOGLE_RECAPTCHA_SECRET_KEY = os.getenv(\"GOOGLE_RECAPTCHA_SECRET_KEY\")\n",
    "\n",
    "# https://docs.djangoproject.com/en/4.1/ref/contrib/messages/\n",
    "MESSAGE_TAGS = {\n",
    "    messages.DEBUG:\t'aler-secondary',\n",
    "    messages.INFO: 'aler-info',\n",
    "    messages.SUCCESS: 'aler-success',\n",
    "    messages.WARNING: 'aler-warning',\n",
    "    messages.ERROR: 'aler-danger',\n",
    "}"
   ]
  },
  {
   "cell_type": "markdown",
   "id": "57049b10",
   "metadata": {},
   "source": [
    "B .env добавить"
   ]
  },
  {
   "cell_type": "code",
   "execution_count": null,
   "id": "d94e1d24",
   "metadata": {},
   "outputs": [],
   "source": [
    "SECRET_KEY = '******************************************'\n",
    "DEBUG = True\n",
    "EMAIL_USER = ********@gmail.com\n",
    "EMAIL_PASS = ************\n",
    "EMAIL_PORT = 587\n",
    "GOOGLE_RECAPTCHA_SECRET_KEY = '******************************'\n"
   ]
  },
  {
   "cell_type": "markdown",
   "id": "afaace9d",
   "metadata": {},
   "source": [
    "## URLS"
   ]
  },
  {
   "cell_type": "markdown",
   "id": "0cc26c8e",
   "metadata": {},
   "source": [
    "Создаем файл urls.py в папке приложения с содержимым"
   ]
  },
  {
   "cell_type": "raw",
   "id": "48af38c4",
   "metadata": {},
   "source": [
    "from django.urls import path, re_path\n",
    "from blog.views import *\n",
    "\n",
    "\n",
    "urlpatterns = [\n",
    "    path('',BlogListView.as_view(), name=\"blog\"),\n",
    "    path('posts/user/<str:username>', UserListViews.as_view(), name=\"user\")\n",
    "]\n"
   ]
  },
  {
   "cell_type": "markdown",
   "id": "aa76c218",
   "metadata": {},
   "source": [
    "В settings.py добавляем путь к файлу urls.py"
   ]
  },
  {
   "cell_type": "raw",
   "id": "06295b31",
   "metadata": {},
   "source": [
    "ROOT_URLCONF = 'mainsite.urls'"
   ]
  },
  {
   "cell_type": "markdown",
   "id": "e890cb66",
   "metadata": {},
   "source": [
    "В mainsite/urls.py перпенапровление с помощью include к файлу blog/urls.py"
   ]
  },
  {
   "cell_type": "raw",
   "id": "0442ff96",
   "metadata": {},
   "source": [
    "from django.conf.urls import include\n",
    "\n",
    "urlpatterns = [\n",
    "    ----------------------------------------------------\n",
    "    path('admin/', admin.site.urls), # admin site\n",
    "    ----------------------------------------------------\n",
    "    path('', include('blog.urls')), # blog site\n",
    "]"
   ]
  },
  {
   "cell_type": "markdown",
   "id": "1b8eaba3",
   "metadata": {},
   "source": [
    "# Добавление superuser и яркий скин для административного интерфейса Django ."
   ]
  },
  {
   "cell_type": "markdown",
   "id": "d23b4771",
   "metadata": {},
   "source": [
    "Добавте superuser для admin введя в терминале"
   ]
  },
  {
   "cell_type": "raw",
   "id": "710f6ca3",
   "metadata": {},
   "source": [
    "python manage.py createsuperuser"
   ]
  },
  {
   "cell_type": "markdown",
   "id": "267f6f3c",
   "metadata": {},
   "source": [
    "Заполните поля по образцу"
   ]
  },
  {
   "cell_type": "raw",
   "id": "b496b301",
   "metadata": {},
   "source": [
    "Username: admin\n",
    "\n",
    "Email address: admin@admin.com\n",
    "\n",
    "Password:\n",
    "\n",
    "Password (again):"
   ]
  },
  {
   "cell_type": "markdown",
   "id": "ad1fb0a6",
   "metadata": {},
   "source": [
    "# Добавляем яркий скин для административного интерфейса Django"
   ]
  },
  {
   "cell_type": "markdown",
   "id": "c4c25bc3",
   "metadata": {},
   "source": [
    "# https://django-grappelli.readthedocs.io/en/latest/quickstart.html"
   ]
  },
  {
   "cell_type": "markdown",
   "id": "2012dd76",
   "metadata": {},
   "source": [
    "# Миграция"
   ]
  },
  {
   "cell_type": "markdown",
   "id": "c1bde8a0",
   "metadata": {},
   "source": [
    "Активируем базу данных введя в терминале"
   ]
  },
  {
   "cell_type": "raw",
   "id": "8b5bc3d4",
   "metadata": {},
   "source": [
    "python manage.py makemigrations"
   ]
  },
  {
   "cell_type": "raw",
   "id": "b6ae35b6",
   "metadata": {},
   "source": [
    "python manage.py migrate"
   ]
  },
  {
   "cell_type": "markdown",
   "id": "5a3e16b2",
   "metadata": {},
   "source": [
    "# Модели"
   ]
  },
  {
   "cell_type": "markdown",
   "id": "d5d5ab36",
   "metadata": {},
   "source": [
    "## Основные типы полей"
   ]
  },
  {
   "cell_type": "markdown",
   "id": "3905a74d",
   "metadata": {},
   "source": [
    "• IntegerField - целое число. Значения от -2147483648 до 2147483647 безопасны во всех базах данных,\n",
    "поддерживаемых Django.\n",
    "\n",
    "• BooleanField - поле истина/ложь.\n",
    "\n",
    "• CharField - строковое поле для строк малого и большого размера. Для больших объемов текста\n",
    "используйте TextField.\n",
    "\n",
    "• TextField - большое текстовое поле.\n",
    "\n",
    "• DateField - дата, представленная в Python экземпляром datetime.date. Имеет несколько дополнительных\n",
    "необязательных аргументов.\n",
    "\n",
    "• DateTimeField - дата и время, представленные в Python экземпляром datetime.datetime. Принимает те же\n",
    "дополнительные аргументы, что и DateField.\n",
    "\n",
    "• DurationField - поле для хранения периодов времени, смоделировано в Python с помощью timedelta. При\n",
    "использовании в PostgreSQL, используемый тип данных представляет собой interval, а в Oracle - тип\n",
    "данных представляет собой INTERVAL DAY (9) TO SECOND (6). В противном случае используется bigint\n",
    "микросекунд.\n",
    "\n",
    "• EmailField - класс CharField, который проверяет, является ли значение действительным адресом\n",
    "электронной почты, используя EmailValidator.\n",
    "\n",
    "• FileField - поле для загрузки файла.\n",
    "\n",
    "• FloatField - число с плавающей точкой, представленное в Python экземпляром float.\n",
    "\n",
    "• ImageField - наследует все атрибуты и методы из FileField, но также проверяет, что загруженный объект\n",
    "является допустимым изображением.\n",
    "\n",
    "• DecimalField - десятичное число с фиксированной точностью, представленное в Python экземпляром\n",
    "Decimal. Он проверяет ввод с помощью DecimalValidator.\n",
    "\n",
    "• URLField - CharField для URL, проверяется валидатором URLValidator.\n",
    "\n",
    "• AutoField - хранит целочисленное значение, которое автоматически инкрементируется. Обычно\n",
    "применяется для первичных ключей.\n",
    "\n",
    "• UUIDField - хранит строку, которая представляет UUID-идентификатор.\n",
    "\n",
    "• GenericIPAddressField - хранит строку, которая представляет IP-адрес в формате IP4v или IP6v."
   ]
  },
  {
   "cell_type": "markdown",
   "id": "5822c0ac",
   "metadata": {},
   "source": [
    "## Поля отношений"
   ]
  },
  {
   "cell_type": "markdown",
   "id": "68de37ac",
   "metadata": {},
   "source": [
    "• ForeignKey - отношения многие-к-одному. Требуются два позиционных аргумента: класс, к которому\n",
    "относится модель, и опция on_delete. categoris = models.ForeignKey(Categoris, on_delete=models.CASCADE, verbose_name=\"Категорії\")\n",
    "\n",
    "• ManyToManyField - отношения многие ко многим. Требуется позиционный аргумент - класс, к которому\n",
    "относится модель, который работает точно так же, как и для ForeignKey, включая рекурсивные и ленивые\n",
    "отношения. Связанные объекты можно добавлять, удалять или создавать с помощью поля\n",
    "RelatedManager. likes = models.ManyToManyField(User, related_name='postcomment',verbose_name=\"Лайки\", blank=True)\n",
    "\n",
    "• OneToOneField - отношения один-к-одному. Концептуально это похоже на ForeignKey с unique=True, но\n",
    "«обратная» сторона отношения будет напрямую возвращать один объект."
   ]
  },
  {
   "cell_type": "markdown",
   "id": "980f5eed",
   "metadata": {},
   "source": [
    "## Опции полей"
   ]
  },
  {
   "cell_type": "markdown",
   "id": "25c2ff2e",
   "metadata": {},
   "source": [
    "• null - если True, Django будет хранить пустые значения как NULL в базе данных. По умолчанию\n",
    "установлено значение False.\n",
    "\n",
    "• blank - если True, поле может быть пустым. По умолчанию установлено значение False.\n",
    "\n",
    "• choices - первый элемент в каждом кортеже - это фактическое значение, которое должно быть\n",
    "установлено в модели, а второй элемент - удобочитаемое имя.\n",
    "\n",
    "• db_index - eсли True, для этого поля будет создан индекс базы данных.\n",
    "\n",
    "• db_column - имя столбца базы данных для использования в этом поле. Если это не указано, Django будет\n",
    "использовать имя поля.\n",
    "\n",
    "• db_tablespace - имя табличного пространства базы данных, которое будет использоваться для индекса\n",
    "этого поля, если это поле проиндексировано.\n",
    "\n",
    "• default - значение по умолчанию для поля. Это может быть значение или вызываемый объект. Если он\n",
    "вызывается, он будет вызываться каждый раз, когда создается новый объект.\n",
    "\n",
    "• editable - если False, поле не будет отображаться ни админкой, ни какими-либо другими\n",
    "ModelForm. Они также пропускаются во время проверки модели. По умолчанию установлено\n",
    "значение True.\n",
    "\n",
    "• error_messages - аргумент error_messages позволяет вам переопределить сообщения по\n",
    "умолчанию, которые вызовет поле. Передайте словарь с ключами, соответствующими\n",
    "сообщениям об ошибках, которые вы хотите переопределить.\n",
    "\n",
    "• help_text - дополнительный «справочный» текст для отображения с виджетом формы. Это\n",
    "полезно для документации, даже если ваше поле не используется в форме.\n",
    "\n",
    "• primary_key - если True, это поле является первичным ключом для модели.\n",
    "\n",
    "• unique - если True, это поле должно быть уникальным во всей таблице.\n",
    "\n",
    "• unique_for_date - задайте для него имя DateField или DateTimeField для требования, чтобы это\n",
    "поле было уникальным для значения поля даты.\n",
    "\n",
    "• unique_for_month - как unique_for_date, но требует, чтобы поле было уникальным по\n",
    "отношению к месяцу.\n",
    "\n",
    "• unique_for_year - как unique_for_date и unique_for_month.\n",
    "\n",
    "• related_name в моделях django используеться, чтобы дать доступ ко всем полям другой таблицы с помощью foreignkey или ManyToManyField\n",
    "\n",
    "• verbose_name - удобочитаемое имя для поля. Если подробное имя не указано, Django\n",
    "автоматически создаст его, используя имя атрибута поля, преобразовав подчеркивание в\n",
    "пробелы.\n",
    "\n",
    "• validators - список валидаторов для этого поля."
   ]
  },
  {
   "cell_type": "markdown",
   "id": "bbbf6042",
   "metadata": {},
   "source": [
    "В models.py собрать модель bd"
   ]
  },
  {
   "cell_type": "code",
   "execution_count": null,
   "id": "6aab2328",
   "metadata": {},
   "outputs": [],
   "source": [
    "from time import timezone\n",
    "from django.db import models\n",
    "# https://docs.djangoproject.com/en/4.1/ref/urlresolvers/\n",
    "from django.urls import reverse\n",
    "# https://docs.djangoproject.com/en/4.1/topics/auth/default/\n",
    "from django.contrib.auth.models import User\n",
    "from django.utils import timezone\n",
    "from ckeditor.fields import RichTextField\n",
    "\n",
    "\n",
    "# Create your models here.\n",
    "# https://docs.djangoproject.com/en/4.1/topics/db/models/\n",
    "# https://django.fun/ru/docs/django/4.0/topics/db/models/\n",
    "\n",
    "\n",
    "class Categoris(models.Model):\n",
    "    # поля модели\n",
    "    name = models.CharField(max_length=100, db_index=True, verbose_name=\"Категорія\") # настройка полей\n",
    "    category_slug = models.SlugField(max_length=150, unique=True, db_index=True, verbose_name=\"URL\")\n",
    "\n",
    "    # мета опция\n",
    "    class Meta:\n",
    "        verbose_name = (\"Категорія\")\n",
    "        verbose_name_plural = (\"Категорії\")\n",
    "\n",
    "    # методы модели\n",
    "    def __str__(self):\n",
    "        return self.name\n",
    "\n",
    "    def get_absolute_url(self):\n",
    "        return reverse(\"categoris_detail\", kwargs={\"categoris_slug\": self.slug})\n",
    "\n",
    "\n",
    "class Post(models.Model):\n",
    "    # поля модели\n",
    "    title = models.CharField(\"Назва\", max_length=100,  db_index=True)\n",
    "    slug = models.SlugField(max_length=150, unique=True, db_index=True, verbose_name=\"URL\")\n",
    "    # content = models.TextField(\"Текст статті\", max_length=5000, blank=True, null=True)\n",
    "    content = RichTextField(\"Текст статті\", blank=True, null=True)\n",
    "    photo = models.ImageField(upload_to=\"photo/%Y/%m/%d/\", verbose_name=\"Фото\")\n",
    "    date_created = models.DateTimeField(default=timezone.now, verbose_name=\"Час публікації\")\n",
    "    date_updated= models.DateTimeField(auto_now=True, verbose_name=\"Час зміни\")\n",
    "    author = models.ForeignKey(User, on_delete=models.CASCADE)\n",
    "    categoris = models.ForeignKey(Categoris, on_delete=models.CASCADE, verbose_name=\"Категорії\")\n",
    "    likes = models.ManyToManyField(User, related_name='postcomment',verbose_name=\"Лайки\", blank=True)\n",
    "    reply = models.ForeignKey(\"self\", related_name='reply_ok',verbose_name=\"Відповідь\", on_delete=models.CASCADE, null=True, blank=True)\n",
    "\n",
    "    # мета опция\n",
    "    class Meta:\n",
    "        verbose_name = (\"Пост\")\n",
    "        verbose_name_plural = (\"Пости\")\n",
    "\n",
    "    # методы модели\n",
    "    def __str__(self):\n",
    "        return self.title\n",
    "\n",
    "    def get_absolute_url(self):\n",
    "        return reverse('post', kwargs={'post_slug': self.slug})\n",
    "\n",
    "    def total_likes(self):\n",
    "        return self.likes.count()\n"
   ]
  },
  {
   "cell_type": "markdown",
   "id": "7900ffc7",
   "metadata": {},
   "source": [
    "В admin.py добавить"
   ]
  },
  {
   "cell_type": "code",
   "execution_count": null,
   "id": "be595488",
   "metadata": {},
   "outputs": [],
   "source": [
    "from django.contrib import admin\n",
    "from blog.models import Post, Categoris\n",
    "from django.utils.safestring import mark_safe\n",
    "\n",
    "# Register your models here.\n",
    "# Яркий скин для административного интерфейса Django. https://django-grappelli.readthedocs.io/en/latest/quickstart.html\n",
    "\n",
    "\n",
    "#admin.site.register(Categoris)\n",
    "# admin.site.register(Post)\n",
    "\n",
    "@admin.register(Categoris)\n",
    "class CategoryAdmin(admin.ModelAdmin):\n",
    "    list_display = ('id', 'name')\n",
    "    list_display_links = ('id', 'name') # список отображаемых ссылок\n",
    "    search_fields = ('name',) # поля поиска\n",
    "    prepopulated_fields = {\"category_slug\": (\"name\",)} # автоматически предварительно заполнить поле SlugField\n",
    "\n",
    "\n",
    "@admin.register(Post)\n",
    "class PageAdmin(admin.ModelAdmin):\n",
    "    list_display = [\n",
    "        'id',\n",
    "        'title',\n",
    "        'author',\n",
    "        # 'content',\n",
    "        'get_html_photo',\n",
    "        'date_created',\n",
    "        'date_updated',\n",
    "        'categoris',\n",
    "        'slug',\n",
    "       # 'likes',\n",
    "        'reply',\n",
    "    ]\n",
    "    prepopulated_fields = {\"slug\": (\"title\",)} # автоматически предварительно заполнить поле SlugField\n",
    "    search_fields = ('title', 'content') # поля поиска\n",
    "    list_display_links = ('id', 'title') # список отображаемых ссылок\n",
    "    fields = ('title', 'slug', 'categoris', 'content', 'photo', 'date_created', 'likes', 'reply','author',) # поля\n",
    "    # list_editable = ('is_published',) # список_ редактируемый\n",
    "    # list_filter = ('is_published', 'date_created') # список фильтр\n",
    "    # readonly_fields = ('date_created', 'date_update', 'get_html_photo')\n",
    "\n",
    "    def get_html_photo(self, object):\n",
    "        if object.photo:\n",
    "            return mark_safe(f\"<img src='{object.photo.url}' width = 50\")\n",
    "\n",
    "    get_html_photo.short_description = \"Мініатюра\"\n"
   ]
  },
  {
   "cell_type": "markdown",
   "id": "7d7f7352",
   "metadata": {},
   "source": [
    "ВНИМАНИЕ: после полного сбора модели сделать миграцию "
   ]
  },
  {
   "cell_type": "code",
   "execution_count": null,
   "id": "7fb09031",
   "metadata": {},
   "outputs": [],
   "source": [
    "python manage.py makemigrations"
   ]
  },
  {
   "cell_type": "code",
   "execution_count": null,
   "id": "108a9d1e",
   "metadata": {},
   "outputs": [],
   "source": [
    "python manage.py migrate"
   ]
  },
  {
   "cell_type": "markdown",
   "id": "ff54ba63",
   "metadata": {},
   "source": [
    "# Алгоритм создания Представления"
   ]
  },
  {
   "cell_type": "markdown",
   "id": "1cb5c389",
   "metadata": {},
   "source": [
    "## Техническое задание"
   ]
  },
  {
   "cell_type": "markdown",
   "id": "d28a3edb",
   "metadata": {},
   "source": [
    "1. Вывести все записи пользователя"
   ]
  },
  {
   "cell_type": "markdown",
   "id": "1935876f",
   "metadata": {},
   "source": [
    "2. Отфильтровать, что бы последняя запись была первой "
   ]
  },
  {
   "cell_type": "markdown",
   "id": "619a5f9f",
   "metadata": {},
   "source": [
    "### Модель"
   ]
  },
  {
   "cell_type": "markdown",
   "id": "c7862e64",
   "metadata": {},
   "source": [
    "QuerySet - выборка базы при помощи API"
   ]
  },
  {
   "cell_type": "markdown",
   "id": "44fd16fe",
   "metadata": {},
   "source": [
    "переменная = Модель.менеджер.метод_1(параметры метода_1).метод_2(параметры метода_2)"
   ]
  },
  {
   "cell_type": "markdown",
   "id": "b793d067",
   "metadata": {},
   "source": [
    "https://docs.djangoproject.com/en/4.1/ref/models/querysets/#queryset-api"
   ]
  },
  {
   "cell_type": "markdown",
   "id": "bcdb936d",
   "metadata": {},
   "source": [
    "posts = Post.objects.filter(author=1).orbre_by('-date_created')"
   ]
  },
  {
   "cell_type": "markdown",
   "id": "99819c56",
   "metadata": {},
   "source": [
    "### Представление"
   ]
  },
  {
   "cell_type": "markdown",
   "id": "5d0f6c86",
   "metadata": {},
   "source": [
    "Выбираем функцию, если представление не будет далее расширяться и иметь небольшой функционал (например подсчет лайков или количество просмотров)"
   ]
  },
  {
   "cell_type": "markdown",
   "id": "d75462c2",
   "metadata": {},
   "source": [
    "Во всех остальных случаях выбираем class"
   ]
  },
  {
   "cell_type": "markdown",
   "id": "b43f59a1",
   "metadata": {},
   "source": [
    "https://docs.djangoproject.com/en/4.1/ref/class-based-views/generic-display/#listview"
   ]
  },
  {
   "cell_type": "code",
   "execution_count": null,
   "id": "3a440ab3",
   "metadata": {},
   "outputs": [],
   "source": [
    "class UserPostListVievs(ListVievs):"
   ]
  },
  {
   "cell_type": "markdown",
   "id": "5ea8f22a",
   "metadata": {},
   "source": [
    "Выбираем методы классa"
   ]
  },
  {
   "cell_type": "markdown",
   "id": "ce3db5a9",
   "metadata": {},
   "source": [
    "get_queryset() - Получить список элементов для этого представления. Это должен быть итерируемый объект и может быть набор запросов (в котором будет включено поведение, специфичное для набора запросов).\n",
    "\n",
    "get_context_data(**kwargs) - Возвращает контекстные данные для отображения списка объектов.\n",
    "\n",
    "template_name - Устанавливает путь к шаблону, который будет использоваться в качестве ответа.\n",
    "\n",
    "get_context_object_name() - Возвратит имя переменной контекста, которая будет использоваться для хранения списка данных, которыми управляет это представление.\n",
    "\n",
    "get_object_or_404 - Вызывает get()заданный менеджер модели, но вызывает исключение Http404модели\n",
    "\n",
    "paginate_by - пагинация"
   ]
  },
  {
   "cell_type": "markdown",
   "id": "0901ef4f",
   "metadata": {},
   "source": [
    "### URL"
   ]
  },
  {
   "cell_type": "markdown",
   "id": "50c27a4d",
   "metadata": {},
   "source": [
    "Выбрать путь к представлению"
   ]
  },
  {
   "cell_type": "code",
   "execution_count": null,
   "id": "abbb95e5",
   "metadata": {},
   "outputs": [],
   "source": [
    "from django.urls import path, re_path\n",
    "from django.views.decorators.cache import cache_page\n",
    "from blog.views import *\n",
    "\n",
    "\n",
    "urlpatterns = [\n",
    "    path('', BlogListView.as_view(), name=\"blog\"),\n",
    "    path('user/<str:username>/', UserListView.as_view(), name=\"user\"),"
   ]
  },
  {
   "cell_type": "markdown",
   "id": "22bed840",
   "metadata": {},
   "source": [
    "### Views"
   ]
  },
  {
   "cell_type": "markdown",
   "id": "43a0cb85",
   "metadata": {},
   "source": [
    "Пишем запроз представления"
   ]
  },
  {
   "cell_type": "code",
   "execution_count": null,
   "id": "ed78c9c5",
   "metadata": {},
   "outputs": [],
   "source": [
    "from unicodedata import category\n",
    "from django.shortcuts import render, redirect, get_object_or_404\n",
    "from django.views.generic import ListView, DetailView\n",
    "from django.contrib.auth.models import User\n",
    "\n",
    "from blog.models import Post, Categoris\n",
    "\n",
    "\n",
    "class UserListView(ListView):\n",
    "    \"\"\" Список постов от user \"\"\"\n",
    "    \"\"\" https://docs.djangoproject.com/en/4.1/ref/class-based-views/generic-display/ \"\"\"\n",
    "    # Модель Post в moddel.py\n",
    "    model = Post\n",
    "    # Имя шаблона html\n",
    "    template_name = \"blog/user_post.html\"\n",
    "    # object, model_post, наш вариант =\n",
    "    # представление_модель_имя (возможный вариант переопределения)\n",
    "    # context_object_name = \"blog_post_user_list\"\n",
    "    paginate_by = 6\n",
    "\n",
    "    # Возвращаем контекстные данные для отображения списка объектов.\n",
    "    # Выборка отображения постов от конкретного user(author) через queryset\n",
    "    # Переопределение модель_имя в данном варианте на ['blog_post_user_list']\n",
    "    # Cортировка по дате публикации начиная с последней с помощью order_by\n",
    "    \"\"\" https://docs.djangoproject.com/en/4.1/topics/http/shortcuts/ \"\"\"\n",
    "\n",
    "    def get_context_data(self, *, object_list=None, **kwargs):\n",
    "        user = get_object_or_404(User, username=self.kwargs.get('username'))\n",
    "        queryset = Post.objects.filter(author=user)\n",
    "        context = super().get_context_data(**kwargs)\n",
    "        context['blog_post_user_list'] = queryset.order_by('-date_created')\n",
    "        return context"
   ]
  },
  {
   "cell_type": "markdown",
   "id": "e51ae034",
   "metadata": {},
   "source": [
    "## templates"
   ]
  },
  {
   "cell_type": "markdown",
   "id": "23f29260",
   "metadata": {},
   "source": [
    "Создаем файл mainsite/base.html и импорты bootstrap, js, jquery, include и block для всего проэкта"
   ]
  },
  {
   "cell_type": "code",
   "execution_count": null,
   "id": "aa754812",
   "metadata": {},
   "outputs": [],
   "source": [
    "{% load static %}\n",
    "<!DOCTYPE html>\n",
    "<html lang=\"en\">\n",
    "    <!-- https://docs.djangoproject.com/en/4.1/ref/templates/builtins/ -->\n",
    "    {# импорты bootstrap, js, jquery и прочие для всего проэкта #}\n",
    "<head>\n",
    "    <meta charset=\"UTF-8\">\n",
    "    <meta name=\"viewport\" content=\"width=device-width, initial-scale=1.0\">\n",
    "    <meta http-equiv=\"X-UA-Compatible\" content=\"ie=edge\">\n",
    "    <!-- Bootstrap -->\n",
    "    <link rel=\"stylesheet\" href=\"{% static '/bootstrap/css/bootstrap.css' %}\">\n",
    "    <!-- <link href=\"https://cdn.jsdelivr.net/npm/bootstrap@5.2.1/dist/css/bootstrap.min.css\" rel=\"stylesheet\" integrity=\"sha384-iYQeCzEYFbKjA/T2uDLTpkwGzCiq6soy8tYaI1GyVh/UjpbCx/TYkiZhlZB6+fzT\" crossorigin=\"anonymous\"> -->\n",
    "    <!-- Custom -->\n",
    "    <link rel=\"stylesheet\" href=\"{% static '/css/styles.css' %}\">\n",
    "    <!-- Logo title -->\n",
    "    <link rel=\"shortcut icon\" href=\"{% static '/css/media/logo.png' %}\" type=\"image/x-icon\"/>\n",
    "    <title>{% block title %}{% endblock %}</title>\n",
    "</head>\n",
    "<body>\n",
    "    {% include 'mainsite/navbar.html' %}\n",
    "\n",
    "    <div class=\"wrapper\">\n",
    "        {% block content %}content{% endblock %}\n",
    "        {% include 'mainsite/footer.html' %}\n",
    "    </div>\n",
    "\n",
    "    <!-- <script src=\"https://cdn.jsdelivr.net/npm/5.2.1/dist/js/bootstrap.bundle.min.js\" integrity=\"sha384-u1OknCvxWvY5kfmNBILK2hRnQC3Pr17a+RTT6rIHI7NnikvbZlHgTPOOmMi466C8\" crossorigin=\"anonymous\"></script> -->\n",
    "    <script src=\"{% static '/bootstrap/js/bootstrap.bundle.js' %}\"></script>\n",
    "</body>\n",
    "</html>\n"
   ]
  },
  {
   "cell_type": "markdown",
   "id": "a122e065",
   "metadata": {},
   "source": [
    "Создаем файл blog/base.html в котором будум переопределять title, заголовки, content и т.п."
   ]
  },
  {
   "cell_type": "code",
   "execution_count": null,
   "id": "37368e68",
   "metadata": {},
   "outputs": [],
   "source": [
    "{% extends \"mainsite/base.html\" %}\n",
    "\n",
    "{# для приложения blog #}\n",
    "{% block content %}content{% endblock %}"
   ]
  },
  {
   "cell_type": "markdown",
   "id": "0c12f9e9",
   "metadata": {},
   "source": [
    "Создаем файл blog/user_post.html и пишем что будет отражено на странице пользователю"
   ]
  },
  {
   "cell_type": "code",
   "execution_count": null,
   "id": "20fe89b6",
   "metadata": {},
   "outputs": [],
   "source": [
    "{% extends \"blog/base.html\" %}\n",
    "<!-- https://docs.djangoproject.com/en/4.1/ref/templates/builtins/ -->\n",
    "\n",
    "{% block title %}\n",
    "{% if post %}\n",
    "{{post.author}}\n",
    "{% else %}\n",
    "Новини\n",
    "{% endif %}\n",
    "{% endblock %}\n",
    "\n",
    "{% block content %}\n",
    "\n",
    "{% if blog_post_user_list %}\n",
    "\n",
    "{% for post in blog_post_user_list %}\n",
    "\n",
    "<h2>{{post.title}}</h2>\n",
    "\n",
    "{% if post.photo %}\n",
    "<p><img class=\"img-photo\" src=\"{{post.photo.url}}\"></p>\n",
    "{% endif %}\n",
    "\n",
    "{% autoescape off %}\n",
    "{{post.content|linebreaks|truncatewords:150}}\n",
    "{% endautoescape %}\n",
    "\n",
    "<p class=\"last\">Автор: <a href=\"{% url 'user' user %}\">{{ post.author }}</a>. Дата: {{post.date_created|date:\"d-m-Y H:i:s\"}}</p>\n",
    "<p class=\"link-read-post\"><a href=\"#\">Читати пост</a></p>\n",
    "\n",
    "{% endfor %}\n",
    "{% else %}\n",
    "<p class=\"text-center\">Постів немає</p>\n",
    "{% endif %}\n",
    "{% endblock %}\n"
   ]
  },
  {
   "cell_type": "markdown",
   "id": "6c7a6e52",
   "metadata": {},
   "source": [
    "Таким образом произошло переопределние в данном случае content.\n",
    "Т.е. файл user_post.html расширяет файл blog/base.htm, который в свою очередь расширяет файл mainsite/blog"
   ]
  },
  {
   "cell_type": "markdown",
   "id": "df3e4783",
   "metadata": {},
   "source": [
    "## Делаем страницу для одного полного описания поста"
   ]
  },
  {
   "cell_type": "markdown",
   "id": "6457a0c8",
   "metadata": {},
   "source": [
    "Создаем путь к странице в urls.py"
   ]
  },
  {
   "cell_type": "code",
   "execution_count": null,
   "id": "96258c34",
   "metadata": {},
   "outputs": [],
   "source": [
    "urlpatterns = [\n",
    "    path('', BlogListView.as_view(), name=\"blog\"),\n",
    "    path('post/<slug:post_slug>/', PostDetailViev.as_view(), name=\"post\"),\n",
    "    path('user/<str:username>/', UserListView.as_view(), name=\"user\"),\n",
    "]"
   ]
  },
  {
   "cell_type": "markdown",
   "id": "54f123f8",
   "metadata": {},
   "source": [
    "В данном случае:"
   ]
  },
  {
   "cell_type": "markdown",
   "id": "5fdd6f71",
   "metadata": {},
   "source": [
    "<slug:post_slug> - запрос из базы данных поста по конкретному slug, данные взяты из метода в model.py"
   ]
  },
  {
   "cell_type": "code",
   "execution_count": null,
   "id": "2e928a17",
   "metadata": {},
   "outputs": [],
   "source": [
    "def get_absolute_url(self):\n",
    "        return reverse('post', kwargs={'post_slug': self.slug})"
   ]
  },
  {
   "cell_type": "markdown",
   "id": "e47717bc",
   "metadata": {},
   "source": [
    "Создаем новый класс PostDetailViev для отображения полного поста в файле vievs.py"
   ]
  },
  {
   "cell_type": "code",
   "execution_count": null,
   "id": "9d014603",
   "metadata": {},
   "outputs": [],
   "source": [
    "class PostDetailViev(DetailView):\n",
    "    \"\"\" Полное описание поста от user \"\"\"\n",
    "    # Модель Post в moddel.py\n",
    "    model = Post\n",
    "    # Имя шаблона html\n",
    "    template_name = \"blog/post_detail.html\"\n",
    "    # представление_модель_имя\n",
    "    context_object_name = \"post\"\n",
    "    # Имя аргумента ключевого слова URLConf, содержащего слаг\n",
    "    slug_url_kwarg = \"post_slug\"\n",
    "\n",
    "    # Возвращаем контекстные данные для отображения списка объектов.\n",
    "    def get_context_data(self, *, object_list=None, **kwargs):\n",
    "        context = super().get_context_data(**kwargs)\n",
    "        context['title'] = 'Пост'\n",
    "        return context"
   ]
  },
  {
   "cell_type": "markdown",
   "id": "ae3ce895",
   "metadata": {},
   "source": [
    "Создаем файл blog/post_detail.html с содержимым"
   ]
  },
  {
   "cell_type": "code",
   "execution_count": null,
   "id": "f7931a59",
   "metadata": {},
   "outputs": [],
   "source": [
    "{% extends \"blog/base.html\" %}\n",
    "<!-- https://docs.djangoproject.com/en/4.1/ref/templates/builtins/ -->\n",
    "\n",
    "{% block title %}\n",
    "{% if post_detail %}\n",
    "{{post_detail.title}}\n",
    "{% else %}\n",
    "Пости\n",
    "{% endif %}\n",
    "{% endblock %}\n",
    "\n",
    "{% block content %}\n",
    "<h1>{{post_detail.title}}</h1>\n",
    "\n",
    "{% if post_detail.photo %}\n",
    "<p><img class=\"img-photo\" src=\"{{post_detail.photo.url}}\"></p>\n",
    "{% endif %}\n",
    "\n",
    "{% autoescape off %}\n",
    "{{post_detail.content|linebreaks}}\n",
    "{% endautoescape %}\n",
    "\n",
    "<p class=\"last\">Автор: <a href=\"{% url 'user' user %}\">{{ post_detail.author }}</a>. Дата: {{post_detail.date_created|date:\"d-m-Y H:i:s\"}}</p>\n",
    "\n",
    "{% endblock %}\n"
   ]
  },
  {
   "cell_type": "markdown",
   "id": "9c9c5170",
   "metadata": {},
   "source": [
    "В файле blog/user_post.html указываем get_absolute_url"
   ]
  },
  {
   "cell_type": "markdown",
   "id": "c231a662",
   "metadata": {},
   "source": [
    " <p class=\"link-read-post\"><a href=\"{{ post.get_absolute_url }}\">Читати пост</a></p>"
   ]
  },
  {
   "cell_type": "markdown",
   "id": "efcfabba",
   "metadata": {},
   "source": [
    "## Navbar"
   ]
  },
  {
   "cell_type": "markdown",
   "id": "da7dd7e0",
   "metadata": {},
   "source": [
    "Создайм файл templates/mainsite/navbar.html и набирае нужный на вид navbar"
   ]
  },
  {
   "cell_type": "code",
   "execution_count": null,
   "id": "b2111b1b",
   "metadata": {},
   "outputs": [],
   "source": [
    "<nav class=\"navbar navbar-expand-md navbar-dark fixed-top bg-dark\">\n",
    "    <div class=\"container-fluid\">\n",
    "      <li class=\"logo\"></li>\n",
    "      <button class=\"navbar-toggler\" type=\"button\" data-bs-toggle=\"collapse\" data-bs-target=\"#navbarCollapse\" aria-controls=\"navbarCollapse\" aria-expanded=\"false\" aria-label=\"Toggle navigation\">\n",
    "        <span class=\"navbar-toggler-icon\"></span>\n",
    "      </button>\n",
    "      <div class=\"collapse navbar-collapse\" id=\"navbarCollapse\">\n",
    "        <ul class=\"navbar-nav me-auto mb-2 mb-md-0\">\n",
    "          <li class=\"nav-item\">\n",
    "            <a class=\"nav-link active\" aria-current=\"page\" href=\"{% url 'blog' %}\">Головна</a>\n",
    "          </li>\n",
    "          <li class=\"dropdown\">\n",
    "            <div class=\"nav-item dropdown\"><a class=\"dropdown-toggle nav-link active\" aria-expanded=\"false\" data-bs-toggle=\"dropdown\" href=\"#\">Категорії</a>\n",
    "              <div class=\"dropdown-menu\">\n",
    "                <a class=\"dropdown-item\" href=\"#\">ТЕХНОЛОГИИ И НАУКА</a>\n",
    "                <a class=\"dropdown-item\" href=\"#\">МИР</a>\n",
    "                <a class=\"dropdown-item\" href=\"#\">УКРАИНА</a>\n",
    "              </div>\n",
    "            </div>\n",
    "          </li>\n",
    "          <li class=\"nav-item\">\n",
    "            <a class=\"nav-link active\" href=\"{% url 'user' user %}\">Пости</a>\n",
    "          </li>\n",
    "        </ul>\n",
    "        <form class=\"d-flex\" role=\"search\">\n",
    "          <input class=\"form-control me-2\" type=\"search\" placeholder=\"Пошук\" aria-label=\"Пошук\">\n",
    "          <button class=\"btn btn-outline-success\" type=\"submit\">Пошук</button>\n",
    "        </form>\n",
    "        <ul class=\"navbar-nav\" style=\"padding-left: 20px; color: rgba(234, 255, 225, 0.9)\">\n",
    "        {% if request.user.is_authenticated %}\n",
    "        <li class=\"nav-item active\" >{{user.username}} | <a href=\"#\">Вийти</a></li>\n",
    "            {% else %}\n",
    "            <li class=\"nav-item active\"><a href=\"#\">Реєстрація</a> | <a href=\"#\">Увійти</a></li>\n",
    "            {% endif %}\n",
    "          </ul>\n",
    "      </div>\n",
    "    </div>\n",
    "</nav>\n"
   ]
  },
  {
   "cell_type": "markdown",
   "id": "d5e91bae",
   "metadata": {},
   "source": [
    "Импротируем {% include 'mainsite/navbar.html' %} в файл base.html"
   ]
  },
  {
   "cell_type": "markdown",
   "id": "4d9fb3e2",
   "metadata": {},
   "source": [
    "## Footer"
   ]
  },
  {
   "cell_type": "markdown",
   "id": "c0132930",
   "metadata": {},
   "source": [
    "Создайм файл templates/mainsite/footer.html и набирае нужный на вид navbar"
   ]
  },
  {
   "cell_type": "code",
   "execution_count": null,
   "id": "723d920c",
   "metadata": {},
   "outputs": [],
   "source": [
    "# <footer class=\"footer mt-auto py-3 bg-light\">\n",
    "    <div class=\"container\">\n",
    "      <span class=\"text-muted\">Place sticky footer content here.</span>\n",
    "    </div>\n",
    "</footer>\n"
   ]
  },
  {
   "cell_type": "markdown",
   "id": "4e5e0eaf",
   "metadata": {},
   "source": [
    "Импротируем {% include 'mainsite/footer.html' %} в файл base.html"
   ]
  },
  {
   "cell_type": "code",
   "execution_count": null,
   "id": "d0b343a0",
   "metadata": {},
   "outputs": [],
   "source": []
  },
  {
   "cell_type": "code",
   "execution_count": null,
   "metadata": {},
   "outputs": [],
   "source": []
  }
 ],
 "metadata": {
  "kernelspec": {
   "display_name": "Python 3",
   "language": "python",
   "name": "python3"
  },
  "language_info": {
   "codemirror_mode": {
    "name": "ipython",
    "version": 3
   },
   "file_extension": ".py",
   "mimetype": "text/x-python",
   "name": "python",
   "nbconvert_exporter": "python",
   "pygments_lexer": "ipython3",
   "version": "3.7.3"
  },
  "vscode": {
   "interpreter": {
    "hash": "011629ebb9de81ac56f0f4d89148ca8f1c747471fd35665b6fb55bb89c44c5b0"
   }
  }
 },
 "nbformat": 4,
 "nbformat_minor": 5
}
