{
 "cells": [
  {
   "cell_type": "markdown",
   "metadata": {},
   "source": [
    "# DJANGO"
   ]
  },
  {
   "cell_type": "markdown",
   "metadata": {},
   "source": [
    "Работа с виртуальным окружением"
   ]
  },
  {
   "cell_type": "markdown",
   "metadata": {},
   "source": [
    "Открываем тезминал Ctrl+Alt+t."
   ]
  },
  {
   "cell_type": "markdown",
   "metadata": {},
   "source": [
    "Создадим папку нашего проекта, например blog"
   ]
  },
  {
   "cell_type": "raw",
   "metadata": {},
   "source": [
    "mkdir blog"
   ]
  },
  {
   "cell_type": "markdown",
   "metadata": {},
   "source": [
    "проверте создание папки"
   ]
  },
  {
   "cell_type": "raw",
   "metadata": {},
   "source": [
    "ls"
   ]
  },
  {
   "cell_type": "markdown",
   "metadata": {},
   "source": [
    "перейдем в нее"
   ]
  },
  {
   "cell_type": "raw",
   "metadata": {},
   "source": [
    "cd blog"
   ]
  },
  {
   "cell_type": "markdown",
   "metadata": {},
   "source": [
    "Внутри папки теперь создадим виртуальное окружение. Синтаксис такой версия_пайтон -m venv название окружения"
   ]
  },
  {
   "cell_type": "raw",
   "metadata": {},
   "source": [
    "python3.10 -m venv venv"
   ]
  },
  {
   "cell_type": "markdown",
   "metadata": {},
   "source": [
    "Внутри нашей директории blog мы создали виртуальное окружение venv. Теперь нам надо его активировать, для этого введите"
   ]
  },
  {
   "cell_type": "raw",
   "metadata": {},
   "source": [
    "source venv/bin/activate"
   ]
  },
  {
   "cell_type": "markdown",
   "metadata": {},
   "source": [
    "Слева, в командной строке в приглашении у вас должно появиться надпись (venv)."
   ]
  },
  {
   "cell_type": "markdown",
   "metadata": {},
   "source": [
    "Обновляем пакет pip3"
   ]
  },
  {
   "cell_type": "raw",
   "metadata": {},
   "source": [
    "sudo pip3 install --upgrade pip"
   ]
  },
  {
   "cell_type": "markdown",
   "metadata": {},
   "source": [
    "Установите фреймворк django"
   ]
  },
  {
   "cell_type": "raw",
   "metadata": {},
   "source": [
    "pip install django"
   ]
  },
  {
   "cell_type": "markdown",
   "metadata": {},
   "source": [
    "Установите дополнительные пакеты"
   ]
  },
  {
   "cell_type": "markdown",
   "metadata": {},
   "source": [
    "pip install pillow"
   ]
  },
  {
   "cell_type": "markdown",
   "metadata": {},
   "source": [
    "## django crispy forms"
   ]
  },
  {
   "cell_type": "markdown",
   "metadata": {},
   "source": [
    "https://django-crispy-forms.readthedocs.io/en/latest/install.html"
   ]
  },
  {
   "cell_type": "markdown",
   "metadata": {},
   "source": [
    "https://www.youtube.com/watch?v=7igdoz8cphM&list=PLuZJ9n46uMzXVj9JEjULImuBKRVKKS9To&index=8"
   ]
  },
  {
   "cell_type": "raw",
   "metadata": {},
   "source": [
    "pip install django-crispy-forms"
   ]
  },
  {
   "cell_type": "markdown",
   "metadata": {},
   "source": [
    "## django cleanup"
   ]
  },
  {
   "cell_type": "markdown",
   "metadata": {},
   "source": [
    "https://github.com/un1t/django-cleanup"
   ]
  },
  {
   "cell_type": "raw",
   "metadata": {},
   "source": [
    "pip install django-cleanup"
   ]
  },
  {
   "cell_type": "markdown",
   "metadata": {},
   "source": [
    "## django-ckeditor"
   ]
  },
  {
   "cell_type": "markdown",
   "metadata": {},
   "source": [
    "https://pypi.org/project/django-ckeditor/"
   ]
  },
  {
   "cell_type": "markdown",
   "metadata": {},
   "source": [
    "https://www.youtube.com/watch?v=EGa8fLQWIcI&list=PLuZJ9n46uMzXVj9JEjULImuBKRVKKS9To&index=10"
   ]
  },
  {
   "cell_type": "raw",
   "metadata": {},
   "source": [
    "pip install django-ckeditor"
   ]
  },
  {
   "cell_type": "markdown",
   "metadata": {},
   "source": [
    "## channels"
   ]
  },
  {
   "cell_type": "markdown",
   "metadata": {},
   "source": [
    "https://channels.readthedocs.io/en/stable/installation.html"
   ]
  },
  {
   "cell_type": "markdown",
   "metadata": {},
   "source": [
    "https://www.youtube.com/watch?v=TJy4SCFNMmA&list=PLuZJ9n46uMzXVj9JEjULImuBKRVKKS9To&index=14"
   ]
  },
  {
   "cell_type": "raw",
   "metadata": {},
   "source": [
    "python -m pip install -U channels"
   ]
  },
  {
   "cell_type": "markdown",
   "metadata": {},
   "source": [
    "## django allauth"
   ]
  },
  {
   "cell_type": "markdown",
   "metadata": {},
   "source": [
    "https://django-allauth.readthedocs.io/en/latest/installation.html"
   ]
  },
  {
   "cell_type": "markdown",
   "metadata": {},
   "source": [
    "https://www.youtube.com/watch?v=d1w1qL4aatY&list=PLuZJ9n46uMzXVj9JEjULImuBKRVKKS9To&index=11"
   ]
  },
  {
   "cell_type": "raw",
   "metadata": {},
   "source": [
    "pip install django-allauth"
   ]
  },
  {
   "cell_type": "markdown",
   "metadata": {},
   "source": [
    "## python-dotenv"
   ]
  },
  {
   "cell_type": "markdown",
   "metadata": {},
   "source": [
    "https://pypi.org/project/python-dotenv/"
   ]
  },
  {
   "cell_type": "markdown",
   "metadata": {},
   "source": [
    "https://www.youtube.com/watch?v=M3dc_jSOwN0&list=PLuZJ9n46uMzXVj9JEjULImuBKRVKKS9To&index=9"
   ]
  },
  {
   "cell_type": "raw",
   "metadata": {},
   "source": [
    "pip install python-dotenv"
   ]
  },
  {
   "cell_type": "markdown",
   "metadata": {},
   "source": [
    "## django-braces"
   ]
  },
  {
   "cell_type": "markdown",
   "metadata": {},
   "source": [
    "https://django-braces.readthedocs.io/en/latest/"
   ]
  },
  {
   "cell_type": "raw",
   "metadata": {},
   "source": [
    "pip install django-braces"
   ]
  },
  {
   "cell_type": "markdown",
   "metadata": {},
   "source": [
    "## django-debug-toolbar"
   ]
  },
  {
   "cell_type": "markdown",
   "metadata": {},
   "source": [
    "https://django-debug-toolbar.readthedocs.io/en/latest/installation.html"
   ]
  },
  {
   "cell_type": "markdown",
   "metadata": {},
   "source": [
    "https://www.youtube.com/watch?v=ZAhHfKK2h0A&list=PLuZJ9n46uMzXVj9JEjULImuBKRVKKS9To&index=13"
   ]
  },
  {
   "cell_type": "raw",
   "metadata": {},
   "source": [
    "python -m pip install django-debug-toolbar"
   ]
  },
  {
   "cell_type": "markdown",
   "metadata": {},
   "source": [
    "## django-extensions"
   ]
  },
  {
   "cell_type": "markdown",
   "metadata": {},
   "source": [
    "https://django-extensions.readthedocs.io/en/latest/"
   ]
  },
  {
   "cell_type": "raw",
   "metadata": {},
   "source": [
    "pip install django-extensions"
   ]
  },
  {
   "cell_type": "markdown",
   "metadata": {},
   "source": [
    "## freeze > requirements.txt"
   ]
  },
  {
   "cell_type": "markdown",
   "metadata": {},
   "source": [
    "После установки, вы можете создать файл requirements.txt в котором будут храниться все зависимости для данного вебприложения."
   ]
  },
  {
   "cell_type": "raw",
   "metadata": {},
   "source": [
    "pip freeze > requirements.txt"
   ]
  },
  {
   "cell_type": "markdown",
   "metadata": {},
   "source": [
    "Не забывайте обновлять ваш файл requirements.txt каждый раз когда вы добавляете или обновите в проект новую библиотеку."
   ]
  },
  {
   "cell_type": "markdown",
   "metadata": {},
   "source": [
    "Закрываем терминал"
   ]
  },
  {
   "cell_type": "markdown",
   "metadata": {},
   "source": [
    "Открываем VSCode и открываем папку с проэктом blog"
   ]
  },
  {
   "cell_type": "markdown",
   "metadata": {},
   "source": [
    "# Создаем django проект и приложения"
   ]
  },
  {
   "cell_type": "markdown",
   "metadata": {},
   "source": [
    "В VSCode оmainsiteткрываем терминал"
   ]
  },
  {
   "cell_type": "markdown",
   "metadata": {},
   "source": [
    "Cоздаём проект с названием mainsite"
   ]
  },
  {
   "cell_type": "raw",
   "metadata": {},
   "source": [
    "django-admin startproject mainsite"
   ]
  },
  {
   "cell_type": "markdown",
   "metadata": {},
   "source": [
    "Cоздаём первое приложение с названием blog"
   ]
  },
  {
   "cell_type": "raw",
   "metadata": {},
   "source": [
    "python manage.py startapp blog"
   ]
  },
  {
   "cell_type": "markdown",
   "metadata": {},
   "source": [
    "Oткрываем файл apps.py, внем должно быть примерно следующее"
   ]
  },
  {
   "cell_type": "code",
   "execution_count": null,
   "metadata": {},
   "outputs": [],
   "source": [
    "from django.apps import AppConfig\n",
    "\n",
    "\n",
    "class BlogConfig(AppConfig):\n",
    "    default_auto_field = 'django.db.models.BigAutoField'\n",
    "    name = 'blog'"
   ]
  },
  {
   "cell_type": "markdown",
   "metadata": {},
   "source": [
    "Открываем файл settings.py и добавляем"
   ]
  },
  {
   "cell_type": "code",
   "execution_count": null,
   "metadata": {},
   "outputs": [],
   "source": [
    "ALLOWED_HOSTS = ['*']\n",
    "\n",
    "INSTALLED_APPS = [\n",
    "    --------------\n",
    "    --------------\n",
    "    'blog.apps.BlogConfig',\n",
    "]"
   ]
  },
  {
   "cell_type": "markdown",
   "metadata": {},
   "source": [
    "# Добавление приложений и пакетов django и т.п."
   ]
  },
  {
   "cell_type": "markdown",
   "metadata": {},
   "source": [
    "Добавляем все ранее установленные приложения и пакеты согласно их документациии"
   ]
  },
  {
   "cell_type": "code",
   "execution_count": null,
   "metadata": {},
   "outputs": [],
   "source": [
    "INSTALLED_APPS = [\n",
    "    'grappelli',\n",
    "    'django.contrib.admin',\n",
    "    'django.contrib.auth',\n",
    "    'django.contrib.contenttypes',\n",
    "    'django.contrib.sessions',\n",
    "    'django.contrib.messages',\n",
    "    'django.contrib.staticfiles',\n",
    "\n",
    "    # https://docs.djangoproject.com/en/4.1/ref/contrib/humanize/\n",
    "    'django.contrib.humanize', # Humanize\n",
    "\n",
    "    'django.contrib.sites', # Allauth\n",
    "    'allauth',\n",
    "    'allauth.account',\n",
    "    'allauth.socialaccount.providers.google',\n",
    "    'allauth.socialaccount.providers.github',\n",
    "\n",
    "    'crispy_forms', # FORMS\n",
    "    'ckeditor', # CKEditor\n",
    "    # 'channels', # Channels\n",
    "    'django_cleanup.apps.CleanupConfig', # Cleanup\n",
    "    \"debug_toolbar\", # Debug Toolbar\n",
    "    'django_extensions', # Django Extensions\n",
    "\n",
    "\n",
    "    'blog.apps.BlogConfig', # MyApps\n",
    "]"
   ]
  },
  {
   "cell_type": "markdown",
   "metadata": {},
   "source": [
    "Пример установки django редактора"
   ]
  },
  {
   "cell_type": "markdown",
   "id": "339960da",
   "metadata": {},
   "source": [
    "## ckeditor редактор"
   ]
  },
  {
   "cell_type": "code",
   "execution_count": null,
   "metadata": {},
   "outputs": [],
   "source": [
    "# https://pypi.org/project/django-ckeditor/\n",
    "CKEDITOR_CONFIGS = {\n",
    "    'default': {\n",
    "        'skin': 'moono',\n",
    "        # 'skin': 'office2013',\n",
    "        'toolbar_Basic': [\n",
    "            ['Source', '-', 'Bold', 'Italic']\n",
    "        ],\n",
    "        'toolbar_YourCustomToolbarConfig': [\n",
    "            {'name': 'document', 'items': ['Source', '-', 'Save', 'NewPage', 'Preview', 'Print', '-', 'Templates']},\n",
    "            {'name': 'clipboard', 'items': ['Cut', 'Copy', 'Paste', 'PasteText', 'PasteFromWord', '-', 'Undo', 'Redo']},\n",
    "            {'name': 'editing', 'items': ['Find', 'Replace', '-', 'SelectAll']},\n",
    "            {'name': 'forms',\n",
    "             'items': ['Form', 'Checkbox', 'Radio', 'TextField', 'Textarea', 'Select', 'Button', 'ImageButton',\n",
    "                       'HiddenField']},\n",
    "            '/',\n",
    "            {'name': 'basicstyles',\n",
    "             'items': ['Bold', 'Italic', 'Underline', 'Strike', 'Subscript', 'Superscript', '-', 'RemoveFormat']},\n",
    "            {'name': 'paragraph',\n",
    "             'items': ['NumberedList', 'BulletedList', '-', 'Outdent', 'Indent', '-', 'Blockquote', 'CreateDiv', '-',\n",
    "                       'JustifyLeft', 'JustifyCenter', 'JustifyRight', 'JustifyBlock', '-', 'BidiLtr', 'BidiRtl',\n",
    "                       'Language']},\n",
    "            {'name': 'links', 'items': ['Link', 'Unlink', 'Anchor']},\n",
    "            {'name': 'insert',\n",
    "             'items': ['Image', 'Flash', 'Table', 'HorizontalRule', 'Smiley', 'SpecialChar', 'PageBreak', 'Iframe']},\n",
    "            '/',\n",
    "            {'name': 'styles', 'items': ['Styles', 'Format', 'Font', 'FontSize']},\n",
    "            {'name': 'colors', 'items': ['TextColor', 'BGColor']},\n",
    "            {'name': 'tools', 'items': ['Maximize', 'ShowBlocks']},\n",
    "            {'name': 'about', 'items': ['About']},\n",
    "            '/',  # put this to force next toolbar on new line\n",
    "            {'name': 'yourcustomtools', 'items': [\n",
    "                # put the name of your editor.ui.addButton here\n",
    "                'Preview',\n",
    "                'Maximize',\n",
    "\n",
    "            ]},\n",
    "        ],\n",
    "        'toolbar': 'YourCustomToolbarConfig',  # put selected toolbar config here\n",
    "        # 'toolbarGroups': [{ 'name': 'document', 'groups': [ 'mode', 'document', 'doctools' ] }],\n",
    "        # 'height': 291,\n",
    "        # 'width': '100%',\n",
    "        # 'filebrowserWindowHeight': 725,\n",
    "        # 'filebrowserWindowWidth': 940,\n",
    "        # 'toolbarCanCollapse': True,\n",
    "        # 'mathJaxLib': '//cdn.mathjax.org/mathjax/2.2-latest/MathJax.js?config=TeX-AMS_HTML',\n",
    "        'tabSpaces': 4,\n",
    "        'extraPlugins': ','.join([\n",
    "            'uploadimage', # the upload image feature\n",
    "            # your extra plugins here\n",
    "            'div',\n",
    "            'autolink',\n",
    "            'autoembed',\n",
    "            'embedsemantic',\n",
    "            'autogrow',\n",
    "            # 'devtools',\n",
    "            'widget',\n",
    "            'lineutils',\n",
    "            'clipboard',\n",
    "            'dialog',\n",
    "            'dialogui',\n",
    "            'elementspath'\n",
    "        ]),\n",
    "    }\n",
    "}"
   ]
  },
  {
   "cell_type": "markdown",
   "metadata": {},
   "source": [
    "## django.contrib.humanize"
   ]
  },
  {
   "cell_type": "markdown",
   "metadata": {},
   "source": [
    "https://www.youtube.com/watch?v=mBE8QOh2w4M&list=PLuZJ9n46uMzXVj9JEjULImuBKRVKKS9To&index=12"
   ]
  },
  {
   "cell_type": "code",
   "execution_count": null,
   "metadata": {},
   "outputs": [],
   "source": [
    "INSTALLED_APPS = [\n",
    "    ----------------------------------------------------\n",
    "    # https://docs.djangoproject.com/en/4.1/ref/contrib/humanize/\n",
    "    'django.contrib.humanize', # Humanize\n",
    "    ----------------------------------------------------\n",
    "]"
   ]
  },
  {
   "cell_type": "markdown",
   "metadata": {},
   "source": [
    "ВНИМАНИЕ: после каждого приложения или пакета делайте для выявления ошибок"
   ]
  },
  {
   "cell_type": "raw",
   "metadata": {},
   "source": [
    "python manage.py makemigrations"
   ]
  },
  {
   "cell_type": "raw",
   "metadata": {},
   "source": [
    "python manage.py migrate"
   ]
  },
  {
   "cell_type": "raw",
   "metadata": {},
   "source": [
    "python manage.py collectstatic"
   ]
  },
  {
   "cell_type": "markdown",
   "metadata": {},
   "source": [
    "# Создание папки templates"
   ]
  },
  {
   "cell_type": "markdown",
   "metadata": {},
   "source": [
    "Паралельно папки mainsite и blog создать папку templates, а внутри нее создать папку с таким же именем, как имя нашего приложения blog."
   ]
  },
  {
   "cell_type": "markdown",
   "metadata": {},
   "source": [
    "Открываем файл settings.py и импортируем пакет os"
   ]
  },
  {
   "cell_type": "code",
   "execution_count": null,
   "metadata": {},
   "outputs": [],
   "source": [
    "import os\n",
    "\n",
    "TEMPLATES = [\n",
    "    {\n",
    "        '--------------------------------------------',\n",
    "        'DIRS': [os.path.join(BASE_DIR, 'templates')],\n",
    "        '--------------',\n",
    "    }\n",
    "]"
   ]
  },
  {
   "cell_type": "markdown",
   "metadata": {},
   "source": [
    "# Подключение базы данных"
   ]
  },
  {
   "cell_type": "markdown",
   "metadata": {},
   "source": [
    "Установите пакет psycopg2"
   ]
  },
  {
   "cell_type": "raw",
   "metadata": {},
   "source": [
    "pip install psycopg2-binary"
   ]
  },
  {
   "cell_type": "markdown",
   "metadata": {},
   "source": [
    "В DATABASES = добавте"
   ]
  },
  {
   "cell_type": "code",
   "execution_count": null,
   "metadata": {},
   "outputs": [],
   "source": [
    "DATABASES = {\n",
    "    'default': {\n",
    "        'ENGINE': 'django.db.backends.postgresql',\n",
    "        'NAME': 'myproject',\n",
    "        'USER': 'myprojectuser',\n",
    "        'PASSWORD': 'password',\n",
    "        'HOST': 'localhost',\n",
    "        'PORT': '',\n",
    "    }\n",
    "}"
   ]
  },
  {
   "cell_type": "markdown",
   "metadata": {},
   "source": [
    "# Настройка STATIC"
   ]
  },
  {
   "cell_type": "markdown",
   "metadata": {},
   "source": [
    "Указываем абсолютный путь к каталогу, в котором collectstatic будут собираться статические файлы для развертывания."
   ]
  },
  {
   "cell_type": "code",
   "execution_count": null,
   "metadata": {},
   "outputs": [],
   "source": [
    "# https://docs.djangoproject.com/en/4.1/ref/settings/#static-root\n",
    "STATIC_ROOT = os.path.join(BASE_DIR, 'static')\n",
    "\n",
    "\n",
    "#STATICFILES_DIRS = os.path.join(BASE_DIR, \"templates\")\n",
    "\n",
    "\n",
    "STATICFILES_FINDERS = [\n",
    "    \"django.contrib.staticfiles.finders.FileSystemFinder\",\n",
    "    \"django.contrib.staticfiles.finders.AppDirectoriesFinder\",\n",
    "   ]"
   ]
  },
  {
   "cell_type": "markdown",
   "metadata": {},
   "source": [
    "# Настройка MEDIA"
   ]
  },
  {
   "cell_type": "markdown",
   "metadata": {},
   "source": [
    "Указываем абсолютный путь в файловой системе к каталогу, в котором будут храниться загруженные пользователем файлы ."
   ]
  },
  {
   "cell_type": "code",
   "execution_count": null,
   "metadata": {},
   "outputs": [],
   "source": [
    "# https://docs.djangoproject.com/en/4.1/ref/settings/#std-setting-MEDIA_ROOT\n",
    "\n",
    "MEDIA_ROOT = os.path.join(BASE_DIR, 'media')\n",
    "\n",
    "MEDIA_URL = '/media/'"
   ]
  },
  {
   "cell_type": "markdown",
   "metadata": {},
   "source": [
    "Открываем файл mainsite/urls.py и довавляем"
   ]
  },
  {
   "cell_type": "code",
   "execution_count": null,
   "metadata": {},
   "outputs": [],
   "source": [
    "from django.conf import settings\n",
    "from django.conf.urls.static import static\n",
    "\n",
    "urlpatterns = [\n",
    "    path('admin/', admin.site.urls), # admin site\n",
    "]\n",
    "\n",
    "if settings.DEBUG:\n",
    "    urlpatterns += static(settings.MEDIA_URL, document_root=settings.MEDIA_ROOT)\n"
   ]
  },
  {
   "cell_type": "markdown",
   "metadata": {},
   "source": [
    "Паралельно папки mainsite и blog создать папку media"
   ]
  },
  {
   "cell_type": "markdown",
   "metadata": {},
   "source": [
    "## Некоторые дополнения настройки settings.py"
   ]
  },
  {
   "cell_type": "code",
   "execution_count": null,
   "metadata": {},
   "outputs": [],
   "source": [
    "# email\n",
    "EMAIL_BACKEND = 'django.core.mail.backends.smtp.EmailBackend'\n",
    "EMAIL_HOST = 'smtp.gmail.com'\n",
    "EMAIL_PORT = os.getenv(\"EMAIL_PORT\")\n",
    "EMAIL_USER_TLS = True\n",
    "EMAIL_HOST_USER = os.getenv(\"EMAIL_USER\")\n",
    "EMAIL_HOST_PASSWORD = os.getenv(\"EMAIL_PASS\")\n",
    "\n",
    "GOOGLE_RECAPTCHA_SECRET_KEY = os.getenv(\"GOOGLE_RECAPTCHA_SECRET_KEY\")\n",
    "\n",
    "# https://docs.djangoproject.com/en/4.1/ref/contrib/messages/\n",
    "MESSAGE_TAGS = {\n",
    "    messages.DEBUG:\t'aler-secondary',\n",
    "    messages.INFO: 'aler-info',\n",
    "    messages.SUCCESS: 'aler-success',\n",
    "    messages.WARNING: 'aler-warning',\n",
    "    messages.ERROR: 'aler-danger',\n",
    "}"
   ]
  },
  {
   "cell_type": "markdown",
   "metadata": {},
   "source": [
    "B .env добавить"
   ]
  },
  {
   "cell_type": "code",
   "execution_count": null,
   "metadata": {},
   "outputs": [],
   "source": [
    "SECRET_KEY = '******************************************'\n",
    "DEBUG = True\n",
    "EMAIL_USER = ********@gmail.com\n",
    "EMAIL_PASS = ************\n",
    "EMAIL_PORT = 587\n",
    "GOOGLE_RECAPTCHA_SECRET_KEY = '******************************'\n"
   ]
  },
  {
   "cell_type": "markdown",
   "metadata": {},
   "source": [
    "# Добавление superuser и яркий скин для административного интерфейса Django ."
   ]
  },
  {
   "cell_type": "markdown",
   "metadata": {},
   "source": [
    "Добавте superuser для admin введя в терминале"
   ]
  },
  {
   "cell_type": "raw",
   "metadata": {},
   "source": [
    "python manage.py createsuperuser"
   ]
  },
  {
   "cell_type": "markdown",
   "metadata": {},
   "source": [
    "Заполните поля по образцу"
   ]
  },
  {
   "cell_type": "raw",
   "metadata": {},
   "source": [
    "Username: admin\n",
    "\n",
    "Email address: admin@admin.com\n",
    "\n",
    "Password:\n",
    "\n",
    "Password (again):"
   ]
  },
  {
   "cell_type": "markdown",
   "metadata": {},
   "source": [
    "# Добавляем яркий скин для административного интерфейса Django"
   ]
  },
  {
   "cell_type": "markdown",
   "metadata": {},
   "source": [
    "# https://django-grappelli.readthedocs.io/en/latest/quickstart.html"
   ]
  },
  {
   "cell_type": "markdown",
   "metadata": {},
   "source": [
    "# Миграция"
   ]
  },
  {
   "cell_type": "markdown",
   "metadata": {},
   "source": [
    "Активируем базу данных введя в терминале"
   ]
  },
  {
   "cell_type": "raw",
   "metadata": {},
   "source": [
    "python manage.py makemigrations"
   ]
  },
  {
   "cell_type": "raw",
   "metadata": {},
   "source": [
    "python manage.py migrate"
   ]
  },
  {
   "cell_type": "markdown",
   "metadata": {},
   "source": [
    "# Модели"
   ]
  },
  {
   "cell_type": "markdown",
   "metadata": {},
   "source": []
  },
  {
   "cell_type": "markdown",
   "metadata": {},
   "source": []
  },
  {
   "cell_type": "code",
   "execution_count": null,
   "metadata": {},
   "outputs": [],
   "source": []
  }
 ],
 "metadata": {
  "kernelspec": {
   "display_name": "Python 3",
   "language": "python",
   "name": "python3"
  },
  "language_info": {
   "codemirror_mode": {
    "name": "ipython",
    "version": 3
   },
   "file_extension": ".py",
   "mimetype": "text/x-python",
   "name": "python",
   "nbconvert_exporter": "python",
   "pygments_lexer": "ipython3",
   "version": "3.7.3"
  },
  "vscode": {
   "interpreter": {
    "hash": "011629ebb9de81ac56f0f4d89148ca8f1c747471fd35665b6fb55bb89c44c5b0"
   }
  }
 },
 "nbformat": 4,
 "nbformat_minor": 5
}
